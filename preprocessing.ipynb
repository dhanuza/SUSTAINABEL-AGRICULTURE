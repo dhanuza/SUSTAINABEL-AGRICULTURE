{
 "cells": [
  {
   "cell_type": "code",
   "execution_count": null,
   "id": "52e608a0-37cc-46e4-9f85-a9d941e81134",
   "metadata": {},
   "outputs": [],
   "source": [
    " TITLE:AI-powered plant health insights from biosensor data — detect stress early\n",
    "and grow smarter!!!\n",
    " \n",
    "DESCRIPTION:\n",
    "Plants, much like humans, have their own health metrics.\n",
    "Monitoring these can be the difference between a thriving garden and a wilting one. \n",
    "In this notebook, we'll dive into a dataset that captures various environmental factors affecting plant health and see what insights we can uncover.\n",
    "If you find this notebook useful, don't forget to upvote it.\n"
   ]
  },
  {
   "cell_type": "code",
   "execution_count": null,
   "id": "3b2cc1f0-5c6b-465b-ab19-fc433938c92c",
   "metadata": {},
   "outputs": [],
   "source": [
    " Introduction:\n",
    "In this project we will  explore a dataset that monitors various environmental factors affecting plant health.\n",
    "The dataset includes measurements such as temperature, humidity, soil moisture, and more.\n",
    "this project goal is to understand the relationships between these factors and\n",
    "the overall health of the plants, \n",
    "and to build a predictive model to classify plant health status.\n"
   ]
  },
  {
   "cell_type": "code",
   "execution_count": 21,
   "id": "10189611-26d1-4ffb-99c1-66e9f0698604",
   "metadata": {},
   "outputs": [
    {
     "name": "stdout",
     "output_type": "stream",
     "text": [
      "       Plant_ID  Temperature_C  Humidity_%  Soil_Moisture_%   Soil_pH  \\\n",
      "0       Plant_1      26.490142   73.993554        34.872326  5.546096   \n",
      "1       Plant_2      24.585207   69.246337        42.832220  6.069807   \n",
      "2       Plant_3      26.943066   60.596304        33.113701  6.293197   \n",
      "3       Plant_4      29.569090   53.530632        40.380577  7.443844   \n",
      "4       Plant_5      24.297540   66.982233        16.595780  6.778277   \n",
      "..          ...            ...         ...              ...       ...   \n",
      "995   Plant_996      24.156699   70.701502        46.162208  6.514229   \n",
      "996   Plant_997      30.393060   59.734787        48.866288  5.461094   \n",
      "997   Plant_998      26.922529   51.181253        26.373591  6.339851   \n",
      "998   Plant_999      23.286463   58.369330        50.012646  7.321689   \n",
      "999  Plant_1000      26.717748   52.550974        42.671114  6.680324   \n",
      "\n",
      "     Nutrient_Level  Light_Intensity_lux  Health_Score  Health_Status  \n",
      "0         41.365064         18728.720954     68.859186              0  \n",
      "1         49.687965         18639.757675     73.690692              1  \n",
      "2         50.180169         14613.070482     70.579398              1  \n",
      "3         54.726303         19009.729425     74.520042              1  \n",
      "4         36.331416         22198.487245     77.858497              1  \n",
      "..              ...                  ...           ...            ...  \n",
      "995       49.510350         20514.407953     77.021332              1  \n",
      "996       57.114106         23457.944310     87.690317              1  \n",
      "997       81.129102         16347.788620     74.726109              1  \n",
      "998       58.080362         21403.851266     79.948934              1  \n",
      "999       41.519344         16489.157881     83.987638              1  \n",
      "\n",
      "[1000 rows x 9 columns]\n"
     ]
    }
   ],
   "source": [
    "df=pd.read_csv(\"D:\\plant_moniter_health_data.csv\")\n",
    "print(df)\n"
   ]
  },
  {
   "cell_type": "code",
   "execution_count": null,
   "id": "8676db4f-e4a1-49e5-9af8-486f0e73d377",
   "metadata": {},
   "outputs": [],
   "source": [
    "Viewing first 5 rows of each dataset"
   ]
  },
  {
   "cell_type": "code",
   "execution_count": 26,
   "id": "764acce5-fb4a-4a52-a013-c57d45cffb56",
   "metadata": {},
   "outputs": [
    {
     "name": "stdout",
     "output_type": "stream",
     "text": [
      "Temperature_C Info:\n",
      "count    1000.000000\n",
      "mean       25.057996\n",
      "std         2.937648\n",
      "min        15.276198\n",
      "25%        23.057229\n",
      "50%        25.075902\n",
      "75%        26.943832\n",
      "max        36.558194\n",
      "Name: Temperature_C, dtype: float64\n"
     ]
    },
    {
     "data": {
      "text/plain": [
       "0    26.490142\n",
       "1    24.585207\n",
       "2    26.943066\n",
       "3    29.569090\n",
       "4    24.297540\n",
       "Name: Temperature_C, dtype: float64"
      ]
     },
     "metadata": {},
     "output_type": "display_data"
    },
    {
     "name": "stdout",
     "output_type": "stream",
     "text": [
      "\n",
      "Soil_Moisture_% Info:\n",
      "count    1000.000000\n",
      "mean       45.087513\n",
      "std        14.751814\n",
      "min        -0.292682\n",
      "25%        35.280006\n",
      "50%        44.996239\n",
      "75%        54.913730\n",
      "max       103.893566\n",
      "Name: Soil_Moisture_%, dtype: float64\n"
     ]
    },
    {
     "data": {
      "text/plain": [
       "0    34.872326\n",
       "1    42.832220\n",
       "2    33.113701\n",
       "3    40.380577\n",
       "4    16.595780\n",
       "Name: Soil_Moisture_%, dtype: float64"
      ]
     },
     "metadata": {},
     "output_type": "display_data"
    },
    {
     "name": "stdout",
     "output_type": "stream",
     "text": [
      "\n",
      "Health_Score Info:\n",
      "count    1000.000000\n",
      "mean       79.718435\n",
      "std        10.250045\n",
      "min        52.873874\n",
      "25%        72.448627\n",
      "50%        79.452536\n",
      "75%        86.997451\n",
      "max       115.290552\n",
      "Name: Health_Score, dtype: float64\n"
     ]
    },
    {
     "data": {
      "text/plain": [
       "0    68.859186\n",
       "1    73.690692\n",
       "2    70.579398\n",
       "3    74.520042\n",
       "4    77.858497\n",
       "Name: Health_Score, dtype: float64"
      ]
     },
     "metadata": {},
     "output_type": "display_data"
    }
   ],
   "source": [
    "import pandas as pd\n",
    "print(\"Temperature_C Info:\")\n",
    "print(df[\"Temperature_C\"].describe())   \n",
    "display(df[\"Temperature_C\"].head())     \n",
    "\n",
    "print(\"\\nSoil_Moisture_% Info:\")\n",
    "print(df[\"Soil_Moisture_%\"].describe())\n",
    "display(df[\"Soil_Moisture_%\"].head())\n",
    "\n",
    "print(\"\\nHealth_Score Info:\")\n",
    "print(df[\"Health_Score\"].describe())\n",
    "display(df[\"Health_Score\"].head())\n"
   ]
  },
  {
   "cell_type": "code",
   "execution_count": null,
   "id": "da1477ac-594d-4dee-b8ba-640a99f3c252",
   "metadata": {},
   "outputs": [],
   "source": [
    "Checking basic info"
   ]
  },
  {
   "cell_type": "code",
   "execution_count": 27,
   "id": "c53b88b6-cfea-4fc5-a7bf-ca08ff3a0421",
   "metadata": {},
   "outputs": [
    {
     "name": "stdout",
     "output_type": "stream",
     "text": [
      "Plant Dataset Info:\n",
      "<class 'pandas.core.frame.DataFrame'>\n",
      "RangeIndex: 1000 entries, 0 to 999\n",
      "Data columns (total 9 columns):\n",
      " #   Column               Non-Null Count  Dtype  \n",
      "---  ------               --------------  -----  \n",
      " 0   Plant_ID             1000 non-null   object \n",
      " 1   Temperature_C        1000 non-null   float64\n",
      " 2   Humidity_%           1000 non-null   float64\n",
      " 3   Soil_Moisture_%      1000 non-null   float64\n",
      " 4   Soil_pH              1000 non-null   float64\n",
      " 5   Nutrient_Level       1000 non-null   float64\n",
      " 6   Light_Intensity_lux  1000 non-null   float64\n",
      " 7   Health_Score         1000 non-null   float64\n",
      " 8   Health_Status        1000 non-null   int64  \n",
      "dtypes: float64(7), int64(1), object(1)\n",
      "memory usage: 70.4+ KB\n",
      "\n",
      "Temperature_C Info:\n",
      "count    1000.000000\n",
      "mean       25.057996\n",
      "std         2.937648\n",
      "min        15.276198\n",
      "25%        23.057229\n",
      "50%        25.075902\n",
      "75%        26.943832\n",
      "max        36.558194\n",
      "Name: Temperature_C, dtype: float64\n",
      "\n",
      "Humidity_% Info:\n",
      "count    1000.000000\n",
      "mean       60.708362\n",
      "std         9.974544\n",
      "min        30.596114\n",
      "25%        53.937583\n",
      "50%        60.630771\n",
      "75%        67.288822\n",
      "max        91.931076\n",
      "Name: Humidity_%, dtype: float64\n",
      "\n",
      "Soil_Moisture_% Info:\n",
      "count    1000.000000\n",
      "mean       45.087513\n",
      "std        14.751814\n",
      "min        -0.292682\n",
      "25%        35.280006\n",
      "50%        44.996239\n",
      "75%        54.913730\n",
      "max       103.893566\n",
      "Name: Soil_Moisture_%, dtype: float64\n",
      "\n",
      "Soil_pH Info:\n",
      "count    1000.000000\n",
      "mean        6.490640\n",
      "std         0.513566\n",
      "min         5.035276\n",
      "25%         6.131290\n",
      "50%         6.500092\n",
      "75%         6.833473\n",
      "max         8.121546\n",
      "Name: Soil_pH, dtype: float64\n",
      "\n",
      "Nutrient_Level Info:\n",
      "count    1000.000000\n",
      "mean       49.507264\n",
      "std         9.923802\n",
      "min        18.232962\n",
      "25%        43.173950\n",
      "50%        49.817580\n",
      "75%        56.391231\n",
      "max        81.129102\n",
      "Name: Nutrient_Level, dtype: float64\n",
      "\n",
      "Light_Intensity_lux Info:\n",
      "count     1000.000000\n",
      "mean     19859.787199\n",
      "std       3022.167739\n",
      "min      11301.458360\n",
      "25%      17918.921580\n",
      "50%      19871.518786\n",
      "75%      21837.340538\n",
      "max      29294.898302\n",
      "Name: Light_Intensity_lux, dtype: float64\n",
      "\n",
      "Health_Score Info:\n",
      "count    1000.000000\n",
      "mean       79.718435\n",
      "std        10.250045\n",
      "min        52.873874\n",
      "25%        72.448627\n",
      "50%        79.452536\n",
      "75%        86.997451\n",
      "max       115.290552\n",
      "Name: Health_Score, dtype: float64\n",
      "\n",
      "Health_Status Info:\n",
      "Health_Status\n",
      "1    826\n",
      "0    174\n",
      "Name: count, dtype: int64\n"
     ]
    }
   ],
   "source": [
    "print(\"Plant Dataset Info:\")\n",
    "df.info()\n",
    "\n",
    "print(\"\\nTemperature_C Info:\")\n",
    "print(df[\"Temperature_C\"].describe())\n",
    "\n",
    "print(\"\\nHumidity_% Info:\")\n",
    "print(df[\"Humidity_%\"].describe())\n",
    "\n",
    "print(\"\\nSoil_Moisture_% Info:\")\n",
    "print(df[\"Soil_Moisture_%\"].describe())\n",
    "\n",
    "print(\"\\nSoil_pH Info:\")\n",
    "print(df[\"Soil_pH\"].describe())\n",
    "\n",
    "print(\"\\nNutrient_Level Info:\")\n",
    "print(df[\"Nutrient_Level\"].describe())\n",
    "\n",
    "print(\"\\nLight_Intensity_lux Info:\")\n",
    "print(df[\"Light_Intensity_lux\"].describe())\n",
    "\n",
    "print(\"\\nHealth_Score Info:\")\n",
    "print(df[\"Health_Score\"].describe())\n",
    "\n",
    "print(\"\\nHealth_Status Info:\")\n",
    "print(df[\"Health_Status\"].value_counts())\n"
   ]
  },
  {
   "cell_type": "code",
   "execution_count": null,
   "id": "9acad5ac-aaf8-491c-bf96-3c3568c6d776",
   "metadata": {},
   "outputs": [],
   "source": [
    "Checking missing values"
   ]
  },
  {
   "cell_type": "code",
   "execution_count": 28,
   "id": "4cabfcca-da57-48f8-bb3f-485b0f16bea2",
   "metadata": {},
   "outputs": [
    {
     "name": "stdout",
     "output_type": "stream",
     "text": [
      "Missing Values in Temperature_C:\n",
      "0\n",
      "\n",
      "Missing Values in Humidity_%:\n",
      "0\n",
      "\n",
      "Missing Values in Soil_Moisture_%:\n",
      "0\n",
      "\n",
      "Missing Values in Soil_pH:\n",
      "0\n",
      "\n",
      "Missing Values in Nutrient_Level:\n",
      "0\n",
      "\n",
      "Missing Values in Light_Intensity_lux:\n",
      "0\n",
      "\n",
      "Missing Values in Health_Score:\n",
      "0\n",
      "\n",
      "Missing Values in Health_Status:\n",
      "0\n"
     ]
    }
   ],
   "source": [
    "print(\"Missing Values in Temperature_C:\")\n",
    "print(df[\"Temperature_C\"].isnull().sum())\n",
    "\n",
    "print(\"\\nMissing Values in Humidity_%:\")\n",
    "print(df[\"Humidity_%\"].isnull().sum())\n",
    "\n",
    "print(\"\\nMissing Values in Soil_Moisture_%:\")\n",
    "print(df[\"Soil_Moisture_%\"].isnull().sum())\n",
    "\n",
    "print(\"\\nMissing Values in Soil_pH:\")\n",
    "print(df[\"Soil_pH\"].isnull().sum())\n",
    "\n",
    "print(\"\\nMissing Values in Nutrient_Level:\")\n",
    "print(df[\"Nutrient_Level\"].isnull().sum())\n",
    "\n",
    "print(\"\\nMissing Values in Light_Intensity_lux:\")\n",
    "print(df[\"Light_Intensity_lux\"].isnull().sum())\n",
    "\n",
    "print(\"\\nMissing Values in Health_Score:\")\n",
    "print(df[\"Health_Score\"].isnull().sum())\n",
    "\n",
    "print(\"\\nMissing Values in Health_Status:\")\n",
    "print(df[\"Health_Status\"].isnull().sum())\n"
   ]
  },
  {
   "cell_type": "code",
   "execution_count": null,
   "id": "181c281a-c02e-4065-bacb-98c9e8b94ca6",
   "metadata": {},
   "outputs": [],
   "source": [
    " correlation (measure the relationship between two variables)\n"
   ]
  },
  {
   "cell_type": "code",
   "execution_count": 36,
   "id": "6abda7fb-99d1-437a-a845-2503fc16a7eb",
   "metadata": {},
   "outputs": [
    {
     "name": "stdout",
     "output_type": "stream",
     "text": [
      "Correlation Matrix:\n",
      "                     Temperature_C  Humidity_%  Soil_Moisture_%   Soil_pH  \\\n",
      "Temperature_C             1.000000   -0.040400         0.022129 -0.013321   \n",
      "Humidity_%               -0.040400    1.000000        -0.011199 -0.054698   \n",
      "Soil_Moisture_%           0.022129   -0.011199         1.000000  0.021586   \n",
      "Soil_pH                  -0.013321   -0.054698         0.021586  1.000000   \n",
      "Nutrient_Level           -0.031237   -0.018687         0.036015  0.019204   \n",
      "Light_Intensity_lux      -0.005723    0.022221         0.003155  0.035692   \n",
      "Health_Score             -0.032866   -0.001289        -0.029101  0.011433   \n",
      "Health_Status            -0.057675    0.021111        -0.037778  0.009447   \n",
      "\n",
      "                     Nutrient_Level  Light_Intensity_lux  Health_Score  \\\n",
      "Temperature_C             -0.031237            -0.005723     -0.032866   \n",
      "Humidity_%                -0.018687             0.022221     -0.001289   \n",
      "Soil_Moisture_%            0.036015             0.003155     -0.029101   \n",
      "Soil_pH                    0.019204             0.035692      0.011433   \n",
      "Nutrient_Level             1.000000            -0.042467      0.004021   \n",
      "Light_Intensity_lux       -0.042467             1.000000      0.014822   \n",
      "Health_Score               0.004021             0.014822      1.000000   \n",
      "Health_Status              0.008343             0.010230      0.663649   \n",
      "\n",
      "                     Health_Status  \n",
      "Temperature_C            -0.057675  \n",
      "Humidity_%                0.021111  \n",
      "Soil_Moisture_%          -0.037778  \n",
      "Soil_pH                   0.009447  \n",
      "Nutrient_Level            0.008343  \n",
      "Light_Intensity_lux       0.010230  \n",
      "Health_Score              0.663649  \n",
      "Health_Status             1.000000  \n"
     ]
    }
   ],
   "source": [
    "numeric_df = df.select_dtypes(include=['number'])\n",
    "\n",
    "print(\"Correlation Matrix:\")\n",
    "print(numeric_df.corr())\n"
   ]
  },
  {
   "cell_type": "code",
   "execution_count": null,
   "id": "f2f49351-f9ac-4f7c-9786-08b6d3dcfe73",
   "metadata": {},
   "outputs": [],
   "source": [
    "save and clean datasset"
   ]
  },
  {
   "cell_type": "code",
   "execution_count": 38,
   "id": "ceb464cd-6ac0-48ad-8eb9-14e76b49c8f5",
   "metadata": {},
   "outputs": [
    {
     "name": "stdout",
     "output_type": "stream",
     "text": [
      "✅ Dataset cleaned and saved as 'clean_plant_health.csv'\n"
     ]
    }
   ],
   "source": [
    "df.to_csv(\"clean_plant_health.csv\", index=False)\n",
    "\n",
    "print(\"✅ Dataset cleaned and saved as 'clean_plant_health.csv'\")\n"
   ]
  },
  {
   "cell_type": "code",
   "execution_count": null,
   "id": "e9dce59d-59e8-44df-93e6-9f4e4450f812",
   "metadata": {},
   "outputs": [],
   "source": [
    " Conclusion:\n",
    "- The dataset has been successfully loaded and explored using `.info()`, `.describe()`, and `.isnull()`.\n",
    "- Missing values were identified and handled appropriately.  \n",
    "- Correlation analysis was performed for the numeric features.  \n",
    "- Finally, the cleaned dataset was saved for further modeling.  \n",
    "\n"
   ]
  }
 ],
 "metadata": {
  "kernelspec": {
   "display_name": "Python 3 (ipykernel)",
   "language": "python",
   "name": "python3"
  },
  "language_info": {
   "codemirror_mode": {
    "name": "ipython",
    "version": 3
   },
   "file_extension": ".py",
   "mimetype": "text/x-python",
   "name": "python",
   "nbconvert_exporter": "python",
   "pygments_lexer": "ipython3",
   "version": "3.13.5"
  }
 },
 "nbformat": 4,
 "nbformat_minor": 5
}
